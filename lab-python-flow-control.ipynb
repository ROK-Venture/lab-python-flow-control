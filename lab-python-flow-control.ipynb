{
 "cells": [
  {
   "cell_type": "markdown",
   "id": "d3bfc191-8885-42ee-b0a0-bbab867c6f9f",
   "metadata": {
    "tags": []
   },
   "source": [
    "# Lab | Flow Control"
   ]
  },
  {
   "cell_type": "markdown",
   "id": "3851fcd1-cf98-4653-9c89-e003b7ec9400",
   "metadata": {},
   "source": [
    "## Exercise: Managing Customer Orders Optimized\n",
    "\n",
    "In the last lab, you were starting an online store that sells various products. To ensure smooth operations, you developed a program that manages customer orders and inventory.\n",
    "\n",
    "You did so without using flow control. Let's go a step further and improve this code.\n",
    "\n",
    "Follow the steps below to complete the exercise:\n",
    "\n",
    "1. Look at your code from the lab data structures, and improve repeated code with loops.\n",
    "\n",
    "2. Instead of asking the user to input the name of three products that a customer wants to order, do the following:\n",
    "    \n",
    "    a. Prompt the user to enter the name of a product that a customer wants to order.\n",
    "    \n",
    "    b. Add the product name to the \"customer_orders\" set.\n",
    "    \n",
    "    c. Ask the user if they want to add another product (yes/no).\n",
    "    \n",
    "    d. Continue the loop until the user does not want to add another product.\n",
    "\n",
    "3. Instead of updating the inventory by subtracting 1 from the quantity of each product, only do it for  the products that were ordered (those in \"customer_orders\")."
   ]
  },
  {
   "cell_type": "code",
   "execution_count": 1,
   "id": "4d19487c",
   "metadata": {},
   "outputs": [
    {
     "name": "stdout",
     "output_type": "stream",
     "text": [
      "['t-shirt', 'mug', 'hat', 'book', 'keychain']\n",
      "Your current product on stock are {'t-shirt': 3, 'mug': 3, 'hat': 3, 'book': 3, 'keychain': 3}\n",
      "{'hat', 'mug', 'book'}\n",
      "Order Statistics:\n",
      "Total number of orders: 3\n",
      "The percentage of ordered products to available products is 60.0%: \n",
      "(3, 60.0)\n",
      "('t-shirt', 3)\n",
      "('mug', 2)\n",
      "('hat', 2)\n",
      "('book', 2)\n",
      "('keychain', 3)\n"
     ]
    }
   ],
   "source": [
    "products = [\"t-shirt\", \"mug\", \"hat\", \"book\", \"keychain\"]\n",
    "print(products)\n",
    "\n",
    "inventory = {}\n",
    "\n",
    "for product in products:\n",
    "    quantity = int(input(f\"Please add the amount for {product} to the stock\"))\n",
    "    inventory[product] = quantity\n",
    "\n",
    "print(f\"Your current product on stock are {inventory}\")\n",
    "\n",
    "customer_orders = set()\n",
    "\n",
    "add_order = 'yes'\n",
    "while add_order == \"yes\":\n",
    "    product = input(f\"Enter the name of a product from the list to order {products}: \")\n",
    "    if product in products:\n",
    "        customer_orders.add(product)\n",
    "        products.remove(product)    \n",
    "    else:\n",
    "        print(f\"{product} is not in the list of available products. Please try again.\")\n",
    "    add_order = input(\"Would you like to order another product? (yes/no): \")\n",
    "\n",
    "print(customer_orders)\n",
    "\n",
    "total_orders = len(customer_orders)\n",
    "ratio = (len(customer_orders) / len(inventory))*100\n",
    "order_status = (total_orders, ratio)\n",
    "\n",
    "print(\"Order Statistics:\")\n",
    "print(\"Total number of orders:\", total_orders)\n",
    "print(f\"The percentage of ordered products to available products is {ratio}%: \")\n",
    "print(order_status)\n",
    "\n",
    "for product in customer_orders:\n",
    "    if inventory[product] > 0:\n",
    "        inventory[product] -= 1\n",
    "\n",
    "for products in inventory.items():\n",
    "    print(products)"
   ]
  }
 ],
 "metadata": {
  "kernelspec": {
   "display_name": "base",
   "language": "python",
   "name": "python3"
  },
  "language_info": {
   "codemirror_mode": {
    "name": "ipython",
    "version": 3
   },
   "file_extension": ".py",
   "mimetype": "text/x-python",
   "name": "python",
   "nbconvert_exporter": "python",
   "pygments_lexer": "ipython3",
   "version": "3.12.7"
  }
 },
 "nbformat": 4,
 "nbformat_minor": 5
}
